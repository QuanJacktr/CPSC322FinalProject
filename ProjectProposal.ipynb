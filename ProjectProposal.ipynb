{
 "cells": [
  {
   "cell_type": "markdown",
   "metadata": {},
   "source": [
    "# CPSC 322 Final Project: Predicting Soccer winner\n",
    "## By Jiaxin Bai and Jack Tran"
   ]
  },
  {
   "cell_type": "markdown",
   "metadata": {},
   "source": [
    "### Dataset\n",
    "\n",
    "Dataset source: https://www.kaggle.com/datasets/piterfm/football-soccer-uefa-euro-1960-2024\n",
    "\n",
    "The dataset contains all players & coaches, all matches & results, and main match events in Football/Soccer UEFA European Championship/EURO (1960-2024), and Nations League (2019-2023).\n",
    "\n",
    "We are going to use attributes such as:\n",
    "* home_team\n",
    "* away_team\n",
    "* home_score\n",
    "* away_score\n",
    "* home_penalty\n",
    "* away_penalty\n",
    "* goals\n",
    "* penalties_missed\n",
    "* home_team_rank\n",
    "* away_team_rank\n",
    "* winner\n",
    "\n",
    "The class attribute we are going to try to predict is winner of each match.\n"
   ]
  },
  {
   "cell_type": "markdown",
   "metadata": {},
   "source": [
    "### Implementation/technical merit\n",
    "\n",
    "    We will use the methods we learned in class, such as Naive Bayes, decision tree, knn classifiers to predict the winner of Euro 2024. We will also select important attributes that is crucial for the result of a match, such as home_team, away_team, home_score, away_score.\n"
   ]
  },
  {
   "cell_type": "markdown",
   "metadata": {},
   "source": [
    "### Potential impact of the results\n",
    "\n",
    "These results are quite useful for predicting future outcomes in Euro. This can also help sports teams and coaches to develop their skills and predict the outcome of a match. It will also be useful for people betting matches."
   ]
  }
 ],
 "metadata": {
  "language_info": {
   "name": "python"
  }
 },
 "nbformat": 4,
 "nbformat_minor": 2
}
